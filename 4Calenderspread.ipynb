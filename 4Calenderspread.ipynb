{
 "cells": [
  {
   "cell_type": "code",
   "execution_count": 347,
   "metadata": {},
   "outputs": [
    {
     "name": "stdout",
     "output_type": "stream",
     "text": [
      "{'Current_Price': 17344, 'Annual_Drift': 0.07, 'Annual_Volatiltiy': 0.15, 'Time_Period': 0.003968254, 'rate_return': 0.07, 'sigma': 0.117, 'No_of_days': 3}\n"
     ]
    }
   ],
   "source": [
    "import opstrat as op\n",
    "import pandas as pd\n",
    "import numpy as np\n",
    "import random\n",
    "from scipy.stats import norm\n",
    "import matplotlib.pyplot as plt\n",
    "import math\n",
    "import seaborn as sns\n",
    "\n",
    "import json\n",
    "with open('configcal.json') as config_file:\n",
    "     data = json.load(config_file)\n",
    "print(data)\n",
    "\n",
    "last_price          = data['Current_Price']\n",
    "annual_drift        = data['Annual_Drift']\n",
    "annual_volatility   = data['Annual_Volatiltiy']\n",
    "time_period         = data['Time_Period']\n",
    "simu                = data['No_of_days']\n",
    "r                   = data['rate_return']\n",
    "sigma               = data['sigma']\n",
    "price               = data['Current_Price']\n",
    "\n",
    "df = pd.DataFrame()\n",
    "\n",
    "last_price_list = [last_price]\n",
    "diff_list       = []\n",
    "tenor_list_1st     = []\n",
    "tenor_list_2nd     = []\n",
    "count           = 0\n",
    "count_list      = []\n",
    "while count < simu:\n",
    "    count = count + 1\n",
    "    difference = last_price*annual_drift*time_period + last_price*annual_volatility*(time_period**(0.5))*norm.ppf(random.random())\n",
    "\n",
    "    last_price = last_price + difference\n",
    "    tenor1st      = ((4-count)/(7*52))\n",
    "    tenor2nd      = ((11-count)/(7*52))\n",
    "    last_price_list.append(last_price)\n",
    "    diff_list.append(difference)\n",
    "    count_list.append(count)\n",
    "\n",
    "    tenor_list_1st.append(tenor1st)\n",
    "    tenor_list_2nd.append(tenor2nd)\n",
    "\n",
    "last_price_list.pop(-1)\n",
    "#tenor_list_1st.pop(-1)\n",
    "#tenor_list_2nd.pop(-1)\n",
    "df['Count'] = count_list\n",
    "df['Price'] = last_price_list\n",
    "df['Change_price'] = diff_list\n",
    "df['tenor_1st_expiry'] = tenor_list_1st\n",
    "df['tenor_2nd_expiry'] = tenor_list_2nd\n",
    "\n"
   ]
  },
  {
   "cell_type": "code",
   "execution_count": 348,
   "metadata": {},
   "outputs": [],
   "source": [
    "from math import log, sqrt, pi, exp\n",
    "from scipy.stats import norm\n",
    "from datetime import datetime, date\n",
    "import numpy as np\n",
    "import pandas as pd\n",
    "from pandas import DataFrame\n",
    "import math\n",
    "\n",
    "\n",
    "\n",
    "#list1 = [int(round(price, -2))+200,int(round(price, -2))+200]\n",
    "\n",
    "datalist = dict()\n",
    "\n",
    "k = int(round(price, -2))+400\n",
    "\n",
    "call_option     = []\n",
    "call_thetalist  = []\n",
    "call_gammalist  = []\n",
    "call_deltalist  = []\n",
    "call_rholist    = []\n",
    "call_vegalist   = [] \n",
    "for last_price,T in zip(df['Price'],df['tenor_1st_expiry']):\n",
    "    d1         = (math.log(last_price/k)+(r+((sigma**2)/2))*T)/(sigma*(T**(0.5)))\n",
    "    d2         = d1-sigma*(T**0.5)\n",
    "    N_d1       = norm.cdf(d1)\n",
    "    N_d2       = norm.cdf(d2)\n",
    "    N_d1_      = 1-norm.cdf(d1)\n",
    "    N_d2_      = 1-norm.cdf(d2)\n",
    "    call       = last_price*N_d1-k*math.exp(-r*T)*N_d2\n",
    "    #put        = k*(math.exp(-r*T))*(1-N_d2)-last_price*(1-N_d1)\n",
    "    call_delta = -norm.cdf(d1)\n",
    "    call_gamma = -norm.pdf(d1)/(last_price*sigma*sqrt(T))\n",
    "    call_vega  = -0.01*(last_price*norm.pdf(d1)*sqrt(T))\n",
    "    call_theta = (-0.01*((-(last_price*norm.pdf(d1)*sigma)/(2*sqrt(T))) - r*k*exp(-r*T)*norm.cdf(d2)))/simu\n",
    "    call_rho   = -0.01*(k*T*exp(-r*T)*norm.cdf(d2))\n",
    "    \n",
    "    call_option.append(call)\n",
    "    call_thetalist.append(call_theta)\n",
    "    call_gammalist.append(call_gamma)\n",
    "    call_deltalist.append(call_delta)\n",
    "    call_rholist.append(call_rho)\n",
    "    call_vegalist.append(call_vega)\n",
    "\n",
    "    datalist['CE_Sell']      = call_option\n",
    "    datalist['theta_Sell']   = call_thetalist\n",
    "    datalist['gamma_Sell']   = call_gammalist\n",
    "    datalist['delta_Sell']   = call_deltalist\n",
    "    datalist['rho_Sell']     = call_rholist\n",
    "    datalist['vega_Sell']    = call_vegalist\n",
    "\n",
    "\n",
    "k = int(round(price, -2))+400\n",
    "\n",
    "call_option     = []\n",
    "call_thetalist  = []\n",
    "call_gammalist  = []\n",
    "call_deltalist  = []\n",
    "call_rholist    = []\n",
    "call_vegalist   = [] \n",
    "for last_price,T in zip(df['Price'],df['tenor_2nd_expiry']):\n",
    "    d1         = (math.log(last_price/k)+(r+((sigma**2)/2))*T)/(sigma*(T**(0.5)))\n",
    "    d2         = d1-sigma*(T**0.5)\n",
    "    N_d1       = norm.cdf(d1)\n",
    "    N_d2       = norm.cdf(d2)\n",
    "    N_d1_      = 1-norm.cdf(d1)\n",
    "    N_d2_      = 1-norm.cdf(d2)\n",
    "    call       = -(last_price*N_d1-k*math.exp(-r*T)*N_d2)\n",
    "    #put        = k*(math.exp(-r*T))*(1-N_d2)-last_price*(1-N_d1)\n",
    "    call_delta = norm.cdf(d1)\n",
    "    call_gamma = norm.pdf(d1)/(last_price*sigma*sqrt(T))\n",
    "    call_vega  = 0.01*(last_price*norm.pdf(d1)*sqrt(T))\n",
    "    call_theta = (0.01*((-(last_price*norm.pdf(d1)*sigma)/(2*sqrt(T))) - r*k*exp(-r*T)*norm.cdf(d2)))/simu\n",
    "    call_rho   = 0.01*(k*T*exp(-r*T)*norm.cdf(d2))\n",
    "    \n",
    "    call_option.append(call)\n",
    "    call_thetalist.append(call_theta)\n",
    "    call_gammalist.append(call_gamma)\n",
    "    call_deltalist.append(call_delta)\n",
    "    call_rholist.append(call_rho)\n",
    "    call_vegalist.append(call_vega)\n",
    "\n",
    "    datalist['CE_Buy']      = call_option\n",
    "    datalist['theta_Buy']   = call_thetalist\n",
    "    datalist['gamma_Buy']   = call_gammalist\n",
    "    datalist['delta_Buy']   = call_deltalist\n",
    "    datalist['rho_Buy']     = call_rholist\n",
    "    datalist['vega_Buy']    = call_vegalist\n",
    "\n",
    "\n",
    "\n",
    "df1 = pd.DataFrame(datalist)"
   ]
  },
  {
   "cell_type": "code",
   "execution_count": 349,
   "metadata": {},
   "outputs": [],
   "source": [
    "df = pd.concat([df,df1],axis=1)"
   ]
  },
  {
   "cell_type": "code",
   "execution_count": 350,
   "metadata": {},
   "outputs": [],
   "source": [
    "#Calculating the total premium paid or recieved \n",
    "filter_col = [col for col in list(df) if col.startswith(('PE_','CE_'))]\n",
    "df['Total_Prem'] = 0 # initialize value, otherwise throws KeyErrorx\n",
    "for d in df[filter_col]:\n",
    "    df['Total_Prem'] = df[filter_col].sum(axis=1)   # Total_PP = total put premium \n",
    "\n",
    "\n",
    "#Calculating the total Profit and Loss\n",
    "\n",
    "df['Total_P&L'] = df['Total_Prem'][0] - df['Total_Prem']\n",
    "\n",
    "\n",
    "#Calculating greeks for overall data\n",
    "\n",
    "list1 = ['theta','gamma','delta','rho','vega']\n",
    "\n",
    "datalist4 = dict()\n",
    "\n",
    "for data in list1:\n",
    "    filter_col = [col for col in list(df) if col.startswith(data)]\n",
    "    df['Port_'+ data] = 0 # initialize value, otherwise throws KeyErrorx\n",
    "    for d in df[filter_col]:\n",
    "        df['Port_'+ data] = df[filter_col].sum(axis=1)    \n",
    "\n",
    "#final_df = pd.concat([df,df],axis = 1)"
   ]
  },
  {
   "cell_type": "code",
   "execution_count": 351,
   "metadata": {},
   "outputs": [],
   "source": [
    "df.to_csv('Calender.csv')"
   ]
  },
  {
   "cell_type": "code",
   "execution_count": 352,
   "metadata": {},
   "outputs": [
    {
     "data": {
      "text/html": [
       "<div>\n",
       "<style scoped>\n",
       "    .dataframe tbody tr th:only-of-type {\n",
       "        vertical-align: middle;\n",
       "    }\n",
       "\n",
       "    .dataframe tbody tr th {\n",
       "        vertical-align: top;\n",
       "    }\n",
       "\n",
       "    .dataframe thead th {\n",
       "        text-align: right;\n",
       "    }\n",
       "</style>\n",
       "<table border=\"1\" class=\"dataframe\">\n",
       "  <thead>\n",
       "    <tr style=\"text-align: right;\">\n",
       "      <th></th>\n",
       "      <th>Count</th>\n",
       "      <th>Price</th>\n",
       "      <th>Change_price</th>\n",
       "      <th>tenor_1st_expiry</th>\n",
       "      <th>tenor_2nd_expiry</th>\n",
       "      <th>CE_Sell</th>\n",
       "      <th>theta_Sell</th>\n",
       "      <th>gamma_Sell</th>\n",
       "      <th>delta_Sell</th>\n",
       "      <th>rho_Sell</th>\n",
       "      <th>...</th>\n",
       "      <th>delta_Buy</th>\n",
       "      <th>rho_Buy</th>\n",
       "      <th>vega_Buy</th>\n",
       "      <th>Total_Prem</th>\n",
       "      <th>Total_P&amp;L</th>\n",
       "      <th>Port_theta</th>\n",
       "      <th>Port_gamma</th>\n",
       "      <th>Port_delta</th>\n",
       "      <th>Port_rho</th>\n",
       "      <th>Port_vega</th>\n",
       "    </tr>\n",
       "  </thead>\n",
       "  <tbody>\n",
       "    <tr>\n",
       "      <th>0</th>\n",
       "      <td>1</td>\n",
       "      <td>17344.000000</td>\n",
       "      <td>241.205880</td>\n",
       "      <td>0.008242</td>\n",
       "      <td>0.027473</td>\n",
       "      <td>2.288842</td>\n",
       "      <td>2.797293</td>\n",
       "      <td>-0.000389</td>\n",
       "      <td>-0.031924</td>\n",
       "      <td>-0.045445</td>\n",
       "      <td>...</td>\n",
       "      <td>0.173901</td>\n",
       "      <td>0.820050</td>\n",
       "      <td>7.380783</td>\n",
       "      <td>-28.872970</td>\n",
       "      <td>0.000000</td>\n",
       "      <td>-3.138082</td>\n",
       "      <td>0.000375</td>\n",
       "      <td>0.141978</td>\n",
       "      <td>0.774605</td>\n",
       "      <td>6.252873</td>\n",
       "    </tr>\n",
       "    <tr>\n",
       "      <th>1</th>\n",
       "      <td>2</td>\n",
       "      <td>17585.205880</td>\n",
       "      <td>-118.718372</td>\n",
       "      <td>0.005495</td>\n",
       "      <td>0.024725</td>\n",
       "      <td>21.639416</td>\n",
       "      <td>15.415161</td>\n",
       "      <td>-0.002045</td>\n",
       "      <td>-0.241474</td>\n",
       "      <td>-0.232128</td>\n",
       "      <td>...</td>\n",
       "      <td>0.401140</td>\n",
       "      <td>1.721500</td>\n",
       "      <td>10.690873</td>\n",
       "      <td>-69.976138</td>\n",
       "      <td>41.103168</td>\n",
       "      <td>5.359039</td>\n",
       "      <td>-0.000850</td>\n",
       "      <td>0.159666</td>\n",
       "      <td>1.489373</td>\n",
       "      <td>6.625111</td>\n",
       "    </tr>\n",
       "    <tr>\n",
       "      <th>2</th>\n",
       "      <td>3</td>\n",
       "      <td>17466.487508</td>\n",
       "      <td>174.985631</td>\n",
       "      <td>0.002747</td>\n",
       "      <td>0.021978</td>\n",
       "      <td>0.634112</td>\n",
       "      <td>2.742838</td>\n",
       "      <td>-0.000384</td>\n",
       "      <td>-0.016537</td>\n",
       "      <td>-0.007918</td>\n",
       "      <td>...</td>\n",
       "      <td>0.251973</td>\n",
       "      <td>0.957324</td>\n",
       "      <td>8.262824</td>\n",
       "      <td>-44.630446</td>\n",
       "      <td>15.757476</td>\n",
       "      <td>-5.604712</td>\n",
       "      <td>0.000669</td>\n",
       "      <td>0.235437</td>\n",
       "      <td>0.949406</td>\n",
       "      <td>7.885874</td>\n",
       "    </tr>\n",
       "  </tbody>\n",
       "</table>\n",
       "<p>3 rows × 24 columns</p>\n",
       "</div>"
      ],
      "text/plain": [
       "   Count         Price  Change_price  tenor_1st_expiry  tenor_2nd_expiry  \\\n",
       "0      1  17344.000000    241.205880          0.008242          0.027473   \n",
       "1      2  17585.205880   -118.718372          0.005495          0.024725   \n",
       "2      3  17466.487508    174.985631          0.002747          0.021978   \n",
       "\n",
       "     CE_Sell  theta_Sell  gamma_Sell  delta_Sell  rho_Sell  ...  delta_Buy  \\\n",
       "0   2.288842    2.797293   -0.000389   -0.031924 -0.045445  ...   0.173901   \n",
       "1  21.639416   15.415161   -0.002045   -0.241474 -0.232128  ...   0.401140   \n",
       "2   0.634112    2.742838   -0.000384   -0.016537 -0.007918  ...   0.251973   \n",
       "\n",
       "    rho_Buy   vega_Buy  Total_Prem  Total_P&L  Port_theta  Port_gamma  \\\n",
       "0  0.820050   7.380783  -28.872970   0.000000   -3.138082    0.000375   \n",
       "1  1.721500  10.690873  -69.976138  41.103168    5.359039   -0.000850   \n",
       "2  0.957324   8.262824  -44.630446  15.757476   -5.604712    0.000669   \n",
       "\n",
       "   Port_delta  Port_rho  Port_vega  \n",
       "0    0.141978  0.774605   6.252873  \n",
       "1    0.159666  1.489373   6.625111  \n",
       "2    0.235437  0.949406   7.885874  \n",
       "\n",
       "[3 rows x 24 columns]"
      ]
     },
     "execution_count": 352,
     "metadata": {},
     "output_type": "execute_result"
    }
   ],
   "source": [
    "df"
   ]
  },
  {
   "cell_type": "code",
   "execution_count": 353,
   "metadata": {},
   "outputs": [
    {
     "data": {
      "text/plain": [
       "17400"
      ]
     },
     "execution_count": 353,
     "metadata": {},
     "output_type": "execute_result"
    }
   ],
   "source": [
    "int(round(price, -2))+100"
   ]
  },
  {
   "cell_type": "code",
   "execution_count": 354,
   "metadata": {},
   "outputs": [
    {
     "data": {
      "text/plain": [
       "1.1452469539702175"
      ]
     },
     "execution_count": 354,
     "metadata": {},
     "output_type": "execute_result"
    }
   ],
   "source": [
    "15.189037/13.262674"
   ]
  },
  {
   "cell_type": "code",
   "execution_count": 355,
   "metadata": {},
   "outputs": [
    {
     "data": {
      "text/plain": [
       "1.1111074612179361"
      ]
     },
     "execution_count": 355,
     "metadata": {},
     "output_type": "execute_result"
    }
   ],
   "source": [
    "31.355457/28.220004"
   ]
  },
  {
   "cell_type": "code",
   "execution_count": 356,
   "metadata": {},
   "outputs": [
    {
     "data": {
      "text/plain": [
       "1.3786977776478648"
      ]
     },
     "execution_count": 356,
     "metadata": {},
     "output_type": "execute_result"
    }
   ],
   "source": [
    "54.288697/39.376793"
   ]
  },
  {
   "cell_type": "code",
   "execution_count": 357,
   "metadata": {},
   "outputs": [
    {
     "data": {
      "text/plain": [
       "17700"
      ]
     },
     "execution_count": 357,
     "metadata": {},
     "output_type": "execute_result"
    }
   ],
   "source": [
    "int(round(price, -2))+400"
   ]
  },
  {
   "cell_type": "code",
   "execution_count": null,
   "metadata": {},
   "outputs": [],
   "source": []
  }
 ],
 "metadata": {
  "kernelspec": {
   "display_name": "base",
   "language": "python",
   "name": "python3"
  },
  "language_info": {
   "codemirror_mode": {
    "name": "ipython",
    "version": 3
   },
   "file_extension": ".py",
   "mimetype": "text/x-python",
   "name": "python",
   "nbconvert_exporter": "python",
   "pygments_lexer": "ipython3",
   "version": "3.9.13"
  },
  "orig_nbformat": 4,
  "vscode": {
   "interpreter": {
    "hash": "f1afcb149df17e101497bf3db9a7e7a33fd697b87a8719fddc600c709fe6bd2a"
   }
  }
 },
 "nbformat": 4,
 "nbformat_minor": 2
}
